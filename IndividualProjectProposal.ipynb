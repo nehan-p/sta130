{
  "nbformat": 4,
  "nbformat_minor": 0,
  "metadata": {
    "colab": {
      "provenance": []
    },
    "kernelspec": {
      "name": "python3",
      "display_name": "Python 3"
    },
    "language_info": {
      "name": "python"
    }
  },
  "cells": [
    {
      "cell_type": "markdown",
      "source": [
        "For my proposal, I’ve broken down my ideas on what I want to analyze by describing my research questions, the variables I wish to use and what aspects of the course learning I will use to perform these."
      ],
      "metadata": {
        "id": "Um7ujnYtvqcB"
      }
    },
    {
      "cell_type": "markdown",
      "source": [
        "# Request for Group Pairings"
      ],
      "metadata": {
        "id": "VsWPcp4dvvfI"
      }
    },
    {
      "cell_type": "markdown",
      "source": [
        "I wish to be paired with Alaina, Tiger and Daniel from my tutorial, we have worked together many times throughout the communication activities, and have built good team chemistry."
      ],
      "metadata": {
        "id": "3shuMfHFv1M-"
      }
    },
    {
      "cell_type": "markdown",
      "source": [
        "# 1. Volunteerism and Self-Confidence"
      ],
      "metadata": {
        "id": "R4EYR00zv3O9"
      }
    },
    {
      "cell_type": "markdown",
      "source": [
        "My first investigation is to see if there is a relationship between the frequency of volunteering and confidence in social acceptance?\n",
        "\n",
        "**Variables:**\n",
        "\n",
        "Independent: Frequency of community volunteering.\n",
        "\n",
        "Dependent: Confidence in being liked and respected.\n",
        "\n",
        "\n",
        "**Analysis:**\n",
        "\n",
        "Week 2 - Data Coding:\n",
        "Convert volunteering frequency into categorical variables and confidence levels into numerical scores.\n",
        "\n",
        "Week 3 - Data Visualization:\n",
        "Create a scatter plot with volunteering frequency on the x-axis and confidence levels on the y-axis.\n",
        "Add a trendline to visually assess the potential relationship.\n",
        "Week 5 - Correlation Test:\n",
        "\n",
        "Calculate the Pearson correlation coefficient to quantitatively assess the relationship.\n",
        "Use a hypothesis test to determine if the correlation is statistically significant (e.g., p < 0.05).\n",
        "\n",
        "My hypothesis for this investigation is that higher volunteering frequency is expected to correlate with increased confidence in social acceptance.  This is because generally being involved in volunteering should relate to a higher sense of community, which in turn may result in the individual feeling more respected and included.\n"
      ],
      "metadata": {
        "id": "PmLVd-p4v9IQ"
      }
    },
    {
      "cell_type": "markdown",
      "source": [
        "# 2. Feelings of Worthlessness and Family Support"
      ],
      "metadata": {
        "id": "9nh5N3bjwWY1"
      }
    },
    {
      "cell_type": "markdown",
      "source": [
        "My second proposal for an investigation is how do feelings of worthlessness relate to family and friend support?\n",
        "\n",
        "**Variables:**\n",
        "\n",
        "Independent: Frequency of feeling worthless.\n",
        "\n",
        "Dependent: Perceived family and friend support.\n",
        "\n",
        "**Analysis:**\n",
        "\n",
        "Week 1 - Data Summarization:\n",
        "\n",
        "Calculate mean and standard deviation for both variables to get a sense of their distribution.\n",
        "Use frequency tables to understand how often respondents feel worthless.\n",
        "\n",
        "Week 3 - Data Visualization:\n",
        "Create a bar chart showing the average level of family support across different categories of feeling worthless.\n",
        "Overlay error bars to represent confidence intervals for family support.\n",
        "\n",
        "Week 4 - Bootstrapping:\n",
        "Apply bootstrapping to estimate confidence intervals for the average family support in each category.\n",
        "Use at least 1,000 resamples to get a more robust estimate.\n",
        "\n",
        "My hypothesis for this investigation is that individuals who frequently feel worthless may report lower levels of family and friend support.  I think this is likely because if an individual is not receiving the proper support for the struggles they may be going through, it likely makes them feel as if they are not seen and in turn results in them feeling worthless.\n"
      ],
      "metadata": {
        "id": "seUdo5EkwZDR"
      }
    },
    {
      "cell_type": "markdown",
      "source": [
        "# 3. Childhood Support and Adult Self-Esteem"
      ],
      "metadata": {
        "id": "m0FEi0TewvXT"
      }
    },
    {
      "cell_type": "markdown",
      "source": [
        "My final investigation is to see if there's an association between childhood support and self-esteem in adulthood?\n",
        "\n",
        "**Variables:**\n",
        "\n",
        "Independent: Frequency of childhood support.\n",
        "\n",
        "Dependent: Adult self-esteem levels.\n",
        "\n",
        "**Analysis:**\n",
        "\n",
        "Data Coding: Encode childhood support as numerical categories (0-3).\n",
        "Visualization: Use a line plot with error bars to show trends in self-esteem across support levels.\n",
        "\n",
        "Linear Regression: Assess the impact of childhood support on self-esteem, examining the regression coefficient, R-squared, and significance (p < 0.05).\n",
        "\n",
        "I hypothesize that a higher frequency of supportive adults during childhood is associated with higher adult self-esteem.  My hypothesis stems from the fact that a lower level of support for an individual in their childhood may relate to more hesitation to opening up to other people as they grow older, resulting in lower self confidence levels when they face difficulties.\n"
      ],
      "metadata": {
        "id": "n6Fd6uNYw0U4"
      }
    }
  ]
}