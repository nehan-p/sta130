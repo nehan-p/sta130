{
  "nbformat": 4,
  "nbformat_minor": 0,
  "metadata": {
    "colab": {
      "provenance": []
    },
    "kernelspec": {
      "name": "python3",
      "display_name": "Python 3"
    },
    "language_info": {
      "name": "python"
    }
  },
  "cells": [
    {
      "cell_type": "markdown",
      "source": [
        "#Question 8.3"
      ],
      "metadata": {
        "id": "MBQjXXlqv54M"
      }
    },
    {
      "cell_type": "code",
      "execution_count": 6,
      "metadata": {
        "colab": {
          "base_uri": "https://localhost:8080/",
          "height": 216
        },
        "id": "QpRMxYVVCyL_",
        "outputId": "e49cba37-a2a7-4eaa-dc72-2f94f1934859"
      },
      "outputs": [
        {
          "output_type": "error",
          "ename": "NameError",
          "evalue": "name 'sex' is not defined",
          "traceback": [
            "\u001b[0;31m---------------------------------------------------------------------------\u001b[0m",
            "\u001b[0;31mNameError\u001b[0m                                 Traceback (most recent call last)",
            "\u001b[0;32m<ipython-input-6-59657f127ef2>\u001b[0m in \u001b[0;36m<cell line: 23>\u001b[0;34m()\u001b[0m\n\u001b[1;32m     21\u001b[0m \u001b[0;34m\u001b[0m\u001b[0m\n\u001b[1;32m     22\u001b[0m \u001b[0;31m# Missing quotes around column name\u001b[0m\u001b[0;34m\u001b[0m\u001b[0;34m\u001b[0m\u001b[0m\n\u001b[0;32m---> 23\u001b[0;31m \u001b[0mdf\u001b[0m\u001b[0;34m.\u001b[0m\u001b[0mgroupby\u001b[0m\u001b[0;34m(\u001b[0m\u001b[0msex\u001b[0m\u001b[0;34m)\u001b[0m\u001b[0;34m[\u001b[0m\u001b[0;34m\"age\"\u001b[0m\u001b[0;34m]\u001b[0m\u001b[0;34m.\u001b[0m\u001b[0mdescribe\u001b[0m\u001b[0;34m(\u001b[0m\u001b[0;34m)\u001b[0m\u001b[0;34m\u001b[0m\u001b[0;34m\u001b[0m\u001b[0m\n\u001b[0m\u001b[1;32m     24\u001b[0m \u001b[0;34m\u001b[0m\u001b[0m\n\u001b[1;32m     25\u001b[0m \u001b[0;34m\u001b[0m\u001b[0m\n",
            "\u001b[0;31mNameError\u001b[0m: name 'sex' is not defined"
          ]
        }
      ],
      "source": [
        "import pandas as pd\n",
        "\n",
        "# Incorrect dataframe variable name\n",
        "# DF.groupby(\"class\")[\"alive\"].describe()\n",
        "\n",
        "# Incorrect file path\n",
        "url = \"https://raw.githubusercontent.com/mwaskom/seaborn-data/master/titanic.csv\"\n",
        "# df = pd.read_csv(url)\n",
        "\n",
        "# Forgetting to import pandas\n",
        "df = pd.read_csv(url)\n",
        "\n",
        "# Missing parentheses\n",
        "# df.read_csv(url)\n",
        "\n",
        "# Typo in method name\n",
        "# df.groupby(\"class\")[\"alive\"].describe()\n",
        "\n",
        "# Incorrect column name\n",
        "# df.groupby(\"sex\")[\"age\"].describe()\n",
        "\n",
        "# Missing quotes around column name\n",
        "df.groupby(sex)[\"age\"].describe()\n",
        "\n",
        "\n",
        "\n",
        "\n"
      ]
    },
    {
      "cell_type": "markdown",
      "source": [
        "1. Fixing the NameError: name 'pd' is not defined, was very easy through Chat since it instantly knew what I was trying to do.\n",
        "2. This one was super easy to fix with Chat since it already had context of the project I am working on.  On Google it was quite difficult to find a direct answer and I had to change my search to something much different to get possible fixes.\n",
        "3. Again through Chat since it had context it gave a direct fix, while Google gave me a general fix of what it possibly may be.\n",
        "4. In this case I found Google to be a relatively sufficient alternative, as this was quite a simple and common syntax mistake, where Google gave an easy general answer to find\n",
        "5. This error was very easy to fix through Chat, as it gave a likely option that would fix the issue.  Through Google, I found people who had the exact same error before, but it took a lot of reading and parsing information to be able to accurately find a fix.\n",
        "6. Chat gave a few options from how I could fix this issue, but Google gave a very generic response which I would have to dig deep to make it applicable exactly for my case.\n",
        "7. Chat was very good for this one as it instantly gave an accurate fix, while Google again gave a very generic response regards to what it may be\n",
        "\n",
        "OVERALL: I found that Chat was a better option than Google in basically all of the cases, due to the fact that reading it's response was much easier to comprehend as it felt more like I was talking to an expert rather than a lot of random people, who's information I'd have to parse and decide the relevance of, as it felt on Google."
      ],
      "metadata": {
        "id": "I4SD-8eEEb4c"
      }
    }
  ]
}